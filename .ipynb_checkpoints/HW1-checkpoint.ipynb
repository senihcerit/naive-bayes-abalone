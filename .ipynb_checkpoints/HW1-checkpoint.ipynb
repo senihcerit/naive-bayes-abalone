{
 "cells": [
  {
   "cell_type": "markdown",
   "metadata": {},
   "source": [
    "#     CMP5130 - MACHINE LEARNING AND PATTERN RECOGNITION\n",
    "##    HOMEWORK-1\n",
    "\n",
    "## SENIH CERIT "
   ]
  },
  {
   "cell_type": "markdown",
   "metadata": {},
   "source": [
    "**Naive Bayes Classifier on Abalone Dataset**"
   ]
  },
  {
   "cell_type": "markdown",
   "metadata": {},
   "source": [
    "**1. Libraries (Just for calculations and plotting)**"
   ]
  },
  {
   "cell_type": "code",
   "execution_count": 1,
   "metadata": {},
   "outputs": [],
   "source": [
    "import numpy as np\n",
    "import pandas as pd\n",
    "import math as mt\n",
    "import matplotlib.pyplot as plt\n",
    "import itertools"
   ]
  },
  {
   "cell_type": "markdown",
   "metadata": {},
   "source": [
    "**2. Dataset Import**"
   ]
  },
  {
   "cell_type": "code",
   "execution_count": 2,
   "metadata": {},
   "outputs": [],
   "source": [
    "column_names = [\"Sex\",\"Length\",\"Diameter\",\"Height\",\"Whole Weight\",\"Shucked Weight\",\"Viscera Weight\",\"Shell Weight\", \"y\"]\n",
    "data = pd.read_csv('abalone_dataset.txt',sep=\"\\t\",names=column_names)"
   ]
  },
  {
   "cell_type": "markdown",
   "metadata": {},
   "source": [
    "**3. General Data Overview**"
   ]
  },
  {
   "cell_type": "code",
   "execution_count": 3,
   "metadata": {},
   "outputs": [
    {
     "data": {
      "text/html": [
       "<div>\n",
       "<style scoped>\n",
       "    .dataframe tbody tr th:only-of-type {\n",
       "        vertical-align: middle;\n",
       "    }\n",
       "\n",
       "    .dataframe tbody tr th {\n",
       "        vertical-align: top;\n",
       "    }\n",
       "\n",
       "    .dataframe thead th {\n",
       "        text-align: right;\n",
       "    }\n",
       "</style>\n",
       "<table border=\"1\" class=\"dataframe\">\n",
       "  <thead>\n",
       "    <tr style=\"text-align: right;\">\n",
       "      <th></th>\n",
       "      <th>Sex</th>\n",
       "      <th>Length</th>\n",
       "      <th>Diameter</th>\n",
       "      <th>Height</th>\n",
       "      <th>Whole Weight</th>\n",
       "      <th>Shucked Weight</th>\n",
       "      <th>Viscera Weight</th>\n",
       "      <th>Shell Weight</th>\n",
       "      <th>y</th>\n",
       "    </tr>\n",
       "  </thead>\n",
       "  <tbody>\n",
       "    <tr>\n",
       "      <td>0</td>\n",
       "      <td>M</td>\n",
       "      <td>0.455</td>\n",
       "      <td>0.365</td>\n",
       "      <td>0.095</td>\n",
       "      <td>0.5140</td>\n",
       "      <td>0.2245</td>\n",
       "      <td>0.1010</td>\n",
       "      <td>0.1500</td>\n",
       "      <td>3</td>\n",
       "    </tr>\n",
       "    <tr>\n",
       "      <td>1</td>\n",
       "      <td>M</td>\n",
       "      <td>0.350</td>\n",
       "      <td>0.265</td>\n",
       "      <td>0.090</td>\n",
       "      <td>0.2255</td>\n",
       "      <td>0.0995</td>\n",
       "      <td>0.0485</td>\n",
       "      <td>0.0700</td>\n",
       "      <td>1</td>\n",
       "    </tr>\n",
       "    <tr>\n",
       "      <td>2</td>\n",
       "      <td>F</td>\n",
       "      <td>0.530</td>\n",
       "      <td>0.420</td>\n",
       "      <td>0.135</td>\n",
       "      <td>0.6770</td>\n",
       "      <td>0.2565</td>\n",
       "      <td>0.1415</td>\n",
       "      <td>0.2100</td>\n",
       "      <td>2</td>\n",
       "    </tr>\n",
       "    <tr>\n",
       "      <td>3</td>\n",
       "      <td>M</td>\n",
       "      <td>0.440</td>\n",
       "      <td>0.365</td>\n",
       "      <td>0.125</td>\n",
       "      <td>0.5160</td>\n",
       "      <td>0.2155</td>\n",
       "      <td>0.1140</td>\n",
       "      <td>0.1550</td>\n",
       "      <td>2</td>\n",
       "    </tr>\n",
       "    <tr>\n",
       "      <td>4</td>\n",
       "      <td>I</td>\n",
       "      <td>0.330</td>\n",
       "      <td>0.255</td>\n",
       "      <td>0.080</td>\n",
       "      <td>0.2050</td>\n",
       "      <td>0.0895</td>\n",
       "      <td>0.0395</td>\n",
       "      <td>0.0550</td>\n",
       "      <td>1</td>\n",
       "    </tr>\n",
       "    <tr>\n",
       "      <td>...</td>\n",
       "      <td>...</td>\n",
       "      <td>...</td>\n",
       "      <td>...</td>\n",
       "      <td>...</td>\n",
       "      <td>...</td>\n",
       "      <td>...</td>\n",
       "      <td>...</td>\n",
       "      <td>...</td>\n",
       "      <td>...</td>\n",
       "    </tr>\n",
       "    <tr>\n",
       "      <td>4172</td>\n",
       "      <td>F</td>\n",
       "      <td>0.565</td>\n",
       "      <td>0.450</td>\n",
       "      <td>0.165</td>\n",
       "      <td>0.8870</td>\n",
       "      <td>0.3700</td>\n",
       "      <td>0.2390</td>\n",
       "      <td>0.2490</td>\n",
       "      <td>2</td>\n",
       "    </tr>\n",
       "    <tr>\n",
       "      <td>4173</td>\n",
       "      <td>M</td>\n",
       "      <td>0.590</td>\n",
       "      <td>0.440</td>\n",
       "      <td>0.135</td>\n",
       "      <td>0.9660</td>\n",
       "      <td>0.4390</td>\n",
       "      <td>0.2145</td>\n",
       "      <td>0.2605</td>\n",
       "      <td>2</td>\n",
       "    </tr>\n",
       "    <tr>\n",
       "      <td>4174</td>\n",
       "      <td>M</td>\n",
       "      <td>0.600</td>\n",
       "      <td>0.475</td>\n",
       "      <td>0.205</td>\n",
       "      <td>1.1760</td>\n",
       "      <td>0.5255</td>\n",
       "      <td>0.2875</td>\n",
       "      <td>0.3080</td>\n",
       "      <td>2</td>\n",
       "    </tr>\n",
       "    <tr>\n",
       "      <td>4175</td>\n",
       "      <td>F</td>\n",
       "      <td>0.625</td>\n",
       "      <td>0.485</td>\n",
       "      <td>0.150</td>\n",
       "      <td>1.0945</td>\n",
       "      <td>0.5310</td>\n",
       "      <td>0.2610</td>\n",
       "      <td>0.2960</td>\n",
       "      <td>2</td>\n",
       "    </tr>\n",
       "    <tr>\n",
       "      <td>4176</td>\n",
       "      <td>M</td>\n",
       "      <td>0.710</td>\n",
       "      <td>0.555</td>\n",
       "      <td>0.195</td>\n",
       "      <td>1.9485</td>\n",
       "      <td>0.9455</td>\n",
       "      <td>0.3765</td>\n",
       "      <td>0.4950</td>\n",
       "      <td>3</td>\n",
       "    </tr>\n",
       "  </tbody>\n",
       "</table>\n",
       "<p>4177 rows × 9 columns</p>\n",
       "</div>"
      ],
      "text/plain": [
       "     Sex  Length  Diameter  Height  Whole Weight  Shucked Weight  \\\n",
       "0      M   0.455     0.365   0.095        0.5140          0.2245   \n",
       "1      M   0.350     0.265   0.090        0.2255          0.0995   \n",
       "2      F   0.530     0.420   0.135        0.6770          0.2565   \n",
       "3      M   0.440     0.365   0.125        0.5160          0.2155   \n",
       "4      I   0.330     0.255   0.080        0.2050          0.0895   \n",
       "...   ..     ...       ...     ...           ...             ...   \n",
       "4172   F   0.565     0.450   0.165        0.8870          0.3700   \n",
       "4173   M   0.590     0.440   0.135        0.9660          0.4390   \n",
       "4174   M   0.600     0.475   0.205        1.1760          0.5255   \n",
       "4175   F   0.625     0.485   0.150        1.0945          0.5310   \n",
       "4176   M   0.710     0.555   0.195        1.9485          0.9455   \n",
       "\n",
       "      Viscera Weight  Shell Weight  y  \n",
       "0             0.1010        0.1500  3  \n",
       "1             0.0485        0.0700  1  \n",
       "2             0.1415        0.2100  2  \n",
       "3             0.1140        0.1550  2  \n",
       "4             0.0395        0.0550  1  \n",
       "...              ...           ... ..  \n",
       "4172          0.2390        0.2490  2  \n",
       "4173          0.2145        0.2605  2  \n",
       "4174          0.2875        0.3080  2  \n",
       "4175          0.2610        0.2960  2  \n",
       "4176          0.3765        0.4950  3  \n",
       "\n",
       "[4177 rows x 9 columns]"
      ]
     },
     "execution_count": 3,
     "metadata": {},
     "output_type": "execute_result"
    }
   ],
   "source": [
    "data"
   ]
  },
  {
   "cell_type": "markdown",
   "metadata": {},
   "source": [
    "**4. Randomly Divided into 2 part: Train and Validation**"
   ]
  },
  {
   "cell_type": "code",
   "execution_count": 4,
   "metadata": {},
   "outputs": [],
   "source": [
    "def split_train_and_validation(data,n):\n",
    "    train       = data.sample(n=n)\n",
    "    validation  = data.drop(train.index)\n",
    "    \n",
    "    return train,validation"
   ]
  },
  {
   "cell_type": "code",
   "execution_count": 5,
   "metadata": {},
   "outputs": [],
   "source": [
    "train_100, validation_100  = split_train_and_validation(data,n=100)\n",
    "train_1000,validation_1000 = split_train_and_validation(data,n=1000)"
   ]
  },
  {
   "cell_type": "markdown",
   "metadata": {},
   "source": [
    "**5. Calculation of Likelihoods and Prior(For different outputs: Young-MiddleAged-Old)**"
   ]
  },
  {
   "cell_type": "code",
   "execution_count": 6,
   "metadata": {},
   "outputs": [],
   "source": [
    "def calculate_y_prior(train):\n",
    "    y_prior = {\n",
    "        1: 0,\n",
    "        2: 0,\n",
    "        3: 0\n",
    "    }\n",
    "    \n",
    "    counts = train[\"y\"].value_counts(ascending=True)\n",
    "                \n",
    "    total_num = len(train)\n",
    "    y_prior[1] = round((counts[1]/total_num), 4) \n",
    "    y_prior[2] = round((counts[2]/total_num), 4) \n",
    "    y_prior[3] = round((counts[3]/total_num), 4) \n",
    "    \n",
    "    return y_prior        "
   ]
  },
  {
   "cell_type": "code",
   "execution_count": 7,
   "metadata": {},
   "outputs": [],
   "source": [
    "def calculate_sex_likelihoods(train):\n",
    "    sex_likelihoods = {\n",
    "      \"F\": [0,0,0,0],\n",
    "      \"I\": [0,0,0,0],\n",
    "      \"M\": [0,0,0,0]\n",
    "    }\n",
    "\n",
    "    for i in range(len(train)):\n",
    "        for j in range(1,4):\n",
    "            if(train.iat[i,0]==\"F\" and train.iat[i,8]==j): \n",
    "                sex_likelihoods[\"F\"][j] += 1\n",
    "            elif(train.iat[i,0]==\"I\" and train.iat[i,8]==j): \n",
    "                sex_likelihoods[\"I\"][j] += 1\n",
    "            elif(train.iat[i,0]==\"M\" and train.iat[i,8]==j): \n",
    "                sex_likelihoods[\"M\"][j] += 1\n",
    "\n",
    "    y_numbers = train['y'].value_counts(ascending=True)\n",
    "\n",
    "    array = [0,y_numbers[1],y_numbers[2],y_numbers[3]]\n",
    "    for i in range(1,4):\n",
    "        sex_likelihoods[\"F\"][i] = round((sex_likelihoods[\"F\"][i]/array[i]),4)\n",
    "        sex_likelihoods[\"I\"][i] = round((sex_likelihoods[\"I\"][i]/array[i]),4)\n",
    "        sex_likelihoods[\"M\"][i] = round((sex_likelihoods[\"M\"][i]/array[i]),4)\n",
    "\n",
    "    return sex_likelihoods"
   ]
  },
  {
   "cell_type": "code",
   "execution_count": 8,
   "metadata": {},
   "outputs": [],
   "source": [
    "def calculate_train_values(train):\n",
    "    train_values = {\n",
    "        \"length\"    : { 1: [], 2: [], 3: [], \"mean\":[0,0,0,0], \"std\":[0,0,0,0]},\n",
    "        \"diameter\"  : { 1: [], 2: [], 3: [], \"mean\":[0,0,0,0], \"std\":[0,0,0,0]},\n",
    "        \"height\"    : { 1: [], 2: [], 3: [], \"mean\":[0,0,0,0], \"std\":[0,0,0,0]},\n",
    "        \"whole_w\"   : { 1: [], 2: [], 3: [], \"mean\":[0,0,0,0], \"std\":[0,0,0,0]},\n",
    "        \"shucked_w\" : { 1: [], 2: [], 3: [], \"mean\":[0,0,0,0], \"std\":[0,0,0,0]},\n",
    "        \"viscera_w\" : { 1: [], 2: [], 3: [], \"mean\":[0,0,0,0], \"std\":[0,0,0,0]},\n",
    "        \"shell_w\"   : { 1: [], 2: [], 3: [], \"mean\":[0,0,0,0], \"std\":[0,0,0,0]}\n",
    "    }\n",
    "\n",
    "    keys = [] \n",
    "    for key in train_values.keys(): \n",
    "        keys.append(key) \n",
    "\n",
    "    for i in range(len(train)):\n",
    "        for j in range(1,4):\n",
    "            if(train.iat[i,8]==j): \n",
    "                for index in range(len(keys)):\n",
    "                    train_values[keys[index]][j].append(train.iat[i,(index+1)])\n",
    "    for i in range(1,4):\n",
    "        for index in range(len(keys)):\n",
    "            train_values[keys[index]][\"mean\"][i] = round((np.mean(train_values[keys[index]][i])),4)\n",
    "            train_values[keys[index]][\"std\"][i]  = round((np.std(train_values[keys[index]][i])),4)   \n",
    "    return train_values,keys"
   ]
  },
  {
   "cell_type": "markdown",
   "metadata": {},
   "source": [
    "**6. Probability Density Function**"
   ]
  },
  {
   "cell_type": "code",
   "execution_count": 9,
   "metadata": {},
   "outputs": [],
   "source": [
    "def calculate_probability_density(num,mean,std):\n",
    "    equation  = (1 / (mt.sqrt(2*mt.pi)*std)) * mt.exp(-(mt.pow(num-mean,2))/(2*mt.pow(std,2)))\n",
    "    \n",
    "    return round((equation),4) "
   ]
  },
  {
   "cell_type": "markdown",
   "metadata": {},
   "source": [
    "**7. Prediction with Gaussian**"
   ]
  },
  {
   "cell_type": "code",
   "execution_count": 10,
   "metadata": {},
   "outputs": [],
   "source": [
    "def predict_gaussian(test,sex_likelihoods,train_values,y_prior,keys):\n",
    "    \n",
    "    predictions=[]\n",
    "    for row in range(len(test)):\n",
    "        elementPrediction= [0,1,1,1]\n",
    "\n",
    "        for i in range(1,4):\n",
    "            if  (test.iat[row,0] == \"M\"): elementPrediction[i] *= sex_likelihoods[\"M\"][i]\n",
    "            elif(test.iat[row,0] == \"I\"): elementPrediction[i] *= sex_likelihoods[\"I\"][i]\n",
    "            elif(test.iat[row,0] == \"F\"): elementPrediction[i] *= sex_likelihoods[\"F\"][i]\n",
    "\n",
    "            for index in range(len(keys)):\n",
    "                elementPrediction[i] *= calculate_probability_density(test.iat[row,index+1],train_values[keys[index]][\"mean\"][i],\n",
    "                                                          train_values[keys[index]][\"std\"][i])\n",
    "            elementPrediction[i] *= y_prior[i]\n",
    "            elementPrediction[i] = round((elementPrediction[i]),4)\n",
    "        predictions.append(elementPrediction.index(max(elementPrediction)))\n",
    "        \n",
    "    return predictions"
   ]
  },
  {
   "cell_type": "markdown",
   "metadata": {},
   "source": [
    "**8. Result and Create Confusion Matrix**"
   ]
  },
  {
   "cell_type": "code",
   "execution_count": 11,
   "metadata": {},
   "outputs": [],
   "source": [
    "def result(predictions,validation):\n",
    "    confusion_matrix = [[0,0,0],[0,0,0],[0,0,0]]\n",
    "    \n",
    "    if(len(predictions) != len(validation)):\n",
    "        print(\"Length is not true\")\n",
    "    else:\n",
    "        for i in range(len(validation)):\n",
    "            for item in range(1,4):\n",
    "                if(validation.iat[i,8] == item):\n",
    "                    confusion_matrix[item-1][predictions[i]-1] +=1\n",
    "    true_classification = confusion_matrix[0][0] + confusion_matrix[1][1] + confusion_matrix[2][2]\n",
    "    miss_classification = len(validation) - true_classification\n",
    "    accuracy            = true_classification / len(validation)\n",
    "    print(\"confusion matrix: \",confusion_matrix)\n",
    "    print(\"total correct classification : \",true_classification)\n",
    "    print(\"total missclassification  : \",miss_classification)\n",
    "    print(\"accuracy  : \",accuracy)\n",
    "    plot(confusion_matrix)\n",
    "    \n",
    "    return confusion_matrix"
   ]
  },
  {
   "cell_type": "markdown",
   "metadata": {},
   "source": [
    "**9. Plotting Confusion Matrix**"
   ]
  },
  {
   "cell_type": "code",
   "execution_count": 12,
   "metadata": {},
   "outputs": [],
   "source": [
    "def plot(confusion_matrix):\n",
    "    confusion_matrix = np.array(confusion_matrix)\n",
    "\n",
    "    \n",
    "    classes = [\"Young\",\"MiddleAged\", \"Old\"]\n",
    "    \n",
    "    plt.figure(figsize=(8, 6))\n",
    "\n",
    "    plt.imshow(confusion_matrix,interpolation=\"nearest\",cmap=plt.cm.Greys)\n",
    "    #plt.title('Confusion Matrix')\n",
    "    \n",
    "    plt.colorbar()\n",
    "    \n",
    "    tickMarks = np.arange(len(classes))\n",
    "    plt.xticks(tickMarks, classes, rotation=45)\n",
    "    plt.yticks(tickMarks, classes)\n",
    "\n",
    "    \n",
    "    thresh = confusion_matrix.max() / 2\n",
    "    x = confusion_matrix.shape[0]\n",
    "    y = confusion_matrix.shape[1]\n",
    "    \n",
    "    plt.rcParams.update({'font.size': 14})\n",
    "    for i, j in itertools.product(range(x), range(y)):\n",
    "        plt.text(j,i, format(confusion_matrix[i,j], 'd'), ha=\"center\", va=\"baseline\",\n",
    "                color=\"red\" if confusion_matrix[i,j] > thresh else \"red\")\n",
    "    \n",
    "    plt.tight_layout()\n",
    "    plt.ylabel('Real Label')\n",
    "    plt.xlabel('Predicted Label')\n",
    "    \n",
    "    print(\"\\nConfusion Matrix:\")\n",
    "    print(confusion_matrix)\n",
    "    \n",
    "    plt.show()\n",
    "    "
   ]
  },
  {
   "cell_type": "markdown",
   "metadata": {},
   "source": [
    "**10. Main Function of Gaussian (Normal) Equation**"
   ]
  },
  {
   "cell_type": "code",
   "execution_count": 13,
   "metadata": {},
   "outputs": [],
   "source": [
    "def gaussian_distribution(train,validation,option):    \n",
    "    \n",
    "    y_prior = calculate_y_prior(train)\n",
    "    sex_likelihoods = calculate_sex_likelihoods(train)\n",
    "    train_values,keys = calculate_train_values(train)\n",
    "    \n",
    "    if(option == \"Validation\"): predict_set = validation\n",
    "    elif(option == \"Train\"): predict_set = train\n",
    "        \n",
    "    predictions = predict_gaussian(predict_set,sex_likelihoods,train_values,y_prior,keys)\n",
    "    confusion_matrix = result(predictions,predict_set)\n",
    "    \n",
    "    return confusion_matrix"
   ]
  },
  {
   "cell_type": "markdown",
   "metadata": {},
   "source": [
    "**11. My Results for 1st Question**"
   ]
  },
  {
   "cell_type": "markdown",
   "metadata": {},
   "source": [
    "***a. 100 sample for Training Set and rest is Validation Set.***\n",
    "\n",
    "Validation Results"
   ]
  },
  {
   "cell_type": "code",
   "execution_count": 14,
   "metadata": {},
   "outputs": [
    {
     "name": "stdout",
     "output_type": "stream",
     "text": [
      "confusion matrix:  [[721, 93, 4], [469, 1267, 584], [56, 448, 435]]\n",
      "total correct classification :  2423\n",
      "total missclassification  :  1654\n",
      "accuracy  :  0.5943095413294088\n",
      "\n",
      "Confusion Matrix:\n",
      "[[ 721   93    4]\n",
      " [ 469 1267  584]\n",
      " [  56  448  435]]\n"
     ]
    },
    {
     "data": {
      "image/png": "[encoded data removed]",
      "text/plain": [
       "<Figure size 576x432 with 2 Axes>"
      ]
     },
     "metadata": {
      "needs_background": "light"
     },
     "output_type": "display_data"
    }
   ],
   "source": [
    "confusion_100_valid = gaussian_distribution(train_100,validation_100,\"Validation\")"
   ]
  },
  {
   "cell_type": "markdown",
   "metadata": {},
   "source": [
    "Train Results"
   ]
  },
  {
   "cell_type": "code",
   "execution_count": 15,
   "metadata": {},
   "outputs": [
    {
     "name": "stdout",
     "output_type": "stream",
     "text": [
      "confusion matrix:  [[17, 4, 0], [12, 34, 12], [3, 11, 7]]\n",
      "total correct classification :  58\n",
      "total missclassification  :  42\n",
      "accuracy  :  0.58\n",
      "\n",
      "Confusion Matrix:\n",
      "[[17  4  0]\n",
      " [12 34 12]\n",
      " [ 3 11  7]]\n"
     ]
    },
    {
     "data": {
      "image/png": "[encoded data removed]",
      "text/plain": [
       "<Figure size 576x432 with 2 Axes>"
      ]
     },
     "metadata": {
      "needs_background": "light"
     },
     "output_type": "display_data"
    }
   ],
   "source": [
    "confusion_100_train =  gaussian_distribution(train_100,validation_100,\"Train\")"
   ]
  },
  {
   "cell_type": "markdown",
   "metadata": {},
   "source": [
    "***b. 1000 sample for Training Set and rest is Validation Set***\n"
   ]
  },
  {
   "cell_type": "markdown",
   "metadata": {},
   "source": [
    "Validation Results"
   ]
  },
  {
   "cell_type": "code",
   "execution_count": 16,
   "metadata": {},
   "outputs": [
    {
     "name": "stdout",
     "output_type": "stream",
     "text": [
      "confusion matrix:  [[531, 83, 7], [331, 862, 642], [44, 298, 379]]\n",
      "total correct classification :  1772\n",
      "total missclassification  :  1405\n",
      "accuracy  :  0.5577588920365124\n",
      "\n",
      "Confusion Matrix:\n",
      "[[531  83   7]\n",
      " [331 862 642]\n",
      " [ 44 298 379]]\n"
     ]
    },
    {
     "data": {
      "image/png": "[encoded data removed]",
      "text/plain": [
       "<Figure size 576x432 with 2 Axes>"
      ]
     },
     "metadata": {
      "needs_background": "light"
     },
     "output_type": "display_data"
    }
   ],
   "source": [
    "confusion_1000_valid = gaussian_distribution(train_1000,validation_1000,\"Validation\")"
   ]
  },
  {
   "cell_type": "markdown",
   "metadata": {},
   "source": [
    "Train Results"
   ]
  },
  {
   "cell_type": "code",
   "execution_count": 17,
   "metadata": {},
   "outputs": [
    {
     "name": "stdout",
     "output_type": "stream",
     "text": [
      "confusion matrix:  [[196, 21, 1], [105, 255, 183], [11, 96, 132]]\n",
      "total correct classification :  583\n",
      "total missclassification  :  417\n",
      "accuracy  :  0.583\n",
      "\n",
      "Confusion Matrix:\n",
      "[[196  21   1]\n",
      " [105 255 183]\n",
      " [ 11  96 132]]\n"
     ]
    },
    {
     "data": {
      "image/png": "[encoded data removed]",
      "text/plain": [
       "<Figure size 576x432 with 2 Axes>"
      ]
     },
     "metadata": {
      "needs_background": "light"
     },
     "output_type": "display_data"
    }
   ],
   "source": [
    "confusion_1000_train = gaussian_distribution(train_1000,validation_1000,\"Train\")"
   ]
  },
  {
   "cell_type": "code",
   "execution_count": 18,
   "metadata": {},
   "outputs": [],
   "source": [
    "true_100 = confusion_100_valid[0][0] + confusion_100_valid[1][1] + confusion_100_valid[2][2] + confusion_100_train[0][0] + confusion_100_train[1][1] + confusion_100_train[2][2]\n",
    "miss_100 = len(data) - true_100\n",
    "\n",
    "true_1000 = confusion_1000_valid[0][0] + confusion_1000_valid[1][1] + confusion_1000_valid[2][2] + confusion_1000_train[0][0] + confusion_1000_train[1][1] + confusion_1000_train[2][2]\n",
    "miss_1000 = len(data) - true_1000"
   ]
  },
  {
   "cell_type": "markdown",
   "metadata": {},
   "source": [
    "Accuracy for 100 and 1000"
   ]
  },
  {
   "cell_type": "code",
   "execution_count": 19,
   "metadata": {},
   "outputs": [],
   "source": [
    "accuracy_100_gaussian = round((true_100 / (true_100 + miss_100)),4)\n",
    "accuracy_1000_gaussian = round((true_1000 / (true_1000 + miss_1000)),4)"
   ]
  },
  {
   "cell_type": "code",
   "execution_count": 20,
   "metadata": {},
   "outputs": [
    {
     "name": "stdout",
     "output_type": "stream",
     "text": [
      "For both Train and Validation\n",
      "\n",
      "Accuracy of 100 samples: 0.594\n",
      "Accuracy of 1000 samples: 0.5638\n"
     ]
    }
   ],
   "source": [
    "print(\"For both Train and Validation\\n\\nAccuracy of 100 samples:\", accuracy_100_gaussian)\n",
    "print(\"Accuracy of 1000 samples:\", accuracy_1000_gaussian)"
   ]
  },
  {
   "cell_type": "markdown",
   "metadata": {},
   "source": [
    "### 2. Question - Histogram Estimator "
   ]
  },
  {
   "cell_type": "markdown",
   "metadata": {},
   "source": [
    "**1. H sizes**\n",
    "- Length: 0.3\n",
    "- Diameter: 0.25\n",
    "- Height: 0.5\n",
    "- Whole Weight: 0.5\n",
    "- Shucked Weight: 0.5\n",
    "- Viscera Weight: 0.5\n",
    "- Shell Weight: 0.5\n"
   ]
  },
  {
   "cell_type": "code",
   "execution_count": 21,
   "metadata": {},
   "outputs": [],
   "source": [
    "def initialize_h_train_values():\n",
    "    h_sizes = {\n",
    "        \"Length\"    : 0.3,\n",
    "        \"Diameter\"  : 0.25,\n",
    "        \"Height\"    : 0.5,\n",
    "        \"Whole Weight\"   : 0.5,\n",
    "        \"Shucked Weight\" : 0.5,\n",
    "        \"Viscera Weight\" : 0.5,\n",
    "        \"Shell Weight\"   : 0.5\n",
    "    }\n",
    "\n",
    "    train_values = {\n",
    "        \"Length\"    : { 0 : { 1: 0, 2: 0, 3: 0} },\n",
    "        \"Diameter\"  : { 0 : { 1: 0, 2: 0, 3: 0} },\n",
    "        \"Height\"    : { 0 : { 1: 0, 2: 0, 3: 0} },\n",
    "        \"Whole Weight\"   : { 0 : { 1: 0, 2: 0, 3: 0} },\n",
    "        \"Shucked Weight\" : { 0 : { 1: 0, 2: 0, 3: 0} },\n",
    "        \"Viscera Weight\" : { 0 : { 1: 0, 2: 0, 3: 0} },\n",
    "        \"Shell Weight\"   : { 0 : { 1: 0, 2: 0, 3: 0} }\n",
    "    }\n",
    "\n",
    "    keys = [] \n",
    "    for key in train_values.keys(): \n",
    "        keys.append(key) \n",
    "\n",
    "    for key in keys:    \n",
    "        temp = h_sizes[key]\n",
    "        while(temp < data[key].max()):\n",
    "            train_values[key][temp] = { 1: 0, 2: 0, 3: 0}\n",
    "            temp += h_sizes[key]\n",
    "            \n",
    "    return h_sizes,train_values,keys"
   ]
  },
  {
   "cell_type": "markdown",
   "metadata": {},
   "source": [
    "**2. Fill h sizes array with values.(We distribute these appropriate their ranges)**"
   ]
  },
  {
   "cell_type": "code",
   "execution_count": 22,
   "metadata": {},
   "outputs": [],
   "source": [
    "def fill_train_values(train, train_values, keys):\n",
    "    for column in keys:\n",
    "        element_range = [] \n",
    "        for key in train_values[column].keys(): \n",
    "            element_range.append(key) \n",
    "\n",
    "        for index in range(len(train)):\n",
    "            number = train.iat[index,1] \n",
    "            y = train.iat[index,8]\n",
    "\n",
    "            if(number > element_range[-1]):\n",
    "                train_values[column][element_range[-1]][y] +=1\n",
    "            else:\n",
    "                for i in range(len(element_range)-1):\n",
    "                    if(number < element_range[i+1]):\n",
    "                        train_values[column][element_range[i]][y] +=1\n",
    "                        break\n",
    "    return train_values"
   ]
  },
  {
   "cell_type": "markdown",
   "metadata": {},
   "source": [
    "**3. For calculation of Histogram Value, we need to number of values which are in same bin**"
   ]
  },
  {
   "cell_type": "code",
   "execution_count": 23,
   "metadata": {},
   "outputs": [],
   "source": [
    "def get_number_of_same_bin(number,train_values,key,y):\n",
    "    element_range = [] \n",
    "    for z in train_values[key].keys(): \n",
    "        element_range.append(z)     \n",
    "    \n",
    "    if(number >= element_range[-1]):\n",
    "        return train_values[key][element_range[-1]][y]\n",
    "    else:\n",
    "        for i in range(len(element_range)-1):\n",
    "            if(number < element_range[i+1]):\n",
    "                return train_values[key][element_range[i]][y]\n"
   ]
  },
  {
   "cell_type": "markdown",
   "metadata": {},
   "source": [
    "**4. Histogram Value Calculation**"
   ]
  },
  {
   "cell_type": "code",
   "execution_count": 24,
   "metadata": {},
   "outputs": [],
   "source": [
    "def calculate_histogram_value(number_same_bin, total_number,h_size):\n",
    "    return round((number_same_bin / (total_number * h_size)),4)"
   ]
  },
  {
   "cell_type": "markdown",
   "metadata": {},
   "source": [
    "**5. Predictions and max value of output will be passed**"
   ]
  },
  {
   "cell_type": "code",
   "execution_count": 25,
   "metadata": {},
   "outputs": [],
   "source": [
    "def predict_histogram(test, instance_size, sex_likelihoods, train_values, y_prior, keys, h_sizes):\n",
    "    \n",
    "    predictions=[]\n",
    "    \n",
    "    for row in range(len(test)):\n",
    "        elementPrediction= [0,1,1,1]\n",
    "\n",
    "        for i in range(1,4):\n",
    "            if  (test.iat[row,0] == \"M\"): elementPrediction[i] *= sex_likelihoods[\"M\"][i]\n",
    "            elif(test.iat[row,0] == \"I\"): elementPrediction[i] *= sex_likelihoods[\"I\"][i]\n",
    "            elif(test.iat[row,0] == \"F\"): elementPrediction[i] *= sex_likelihoods[\"F\"][i]\n",
    "\n",
    "            for index in range(len(keys)):\n",
    "                number_of_same_bin = get_number_of_same_bin(test.iat[row,index+1],train_values,keys[index],i)\n",
    "                #print(number_of_same_bin)\n",
    "                #print(instance_size)\n",
    "                #print(h_sizes[keys[index]])\n",
    "                elementPrediction[i] *= calculate_histogram_value(number_of_same_bin, instance_size, h_sizes[keys[index]])\n",
    "            elementPrediction[i] *= y_prior[i]\n",
    "            elementPrediction[i] = round(elementPrediction[i],4)\n",
    "        predictions.append(elementPrediction.index(max(elementPrediction)))\n",
    "    return predictions"
   ]
  },
  {
   "cell_type": "markdown",
   "metadata": {},
   "source": [
    "**6. Main Function**"
   ]
  },
  {
   "cell_type": "code",
   "execution_count": 26,
   "metadata": {},
   "outputs": [],
   "source": [
    "def histogram_estimator(train,validation,option):    \n",
    "    \n",
    "    y_prior = calculate_y_prior(train)\n",
    "    sex_likelihoods = calculate_sex_likelihoods(train)\n",
    "    \n",
    "    h_sizes, train_values, keys = initialize_h_train_values()\n",
    "    train_values = fill_train_values(train, train_values, keys)\n",
    "    \n",
    "    if(option == \"Validation\"): test = validation\n",
    "    elif(option == \"Train\"): test = train\n",
    "    \n",
    "    predictions = predict_histogram(test, len(train), sex_likelihoods, train_values, y_prior, keys, h_sizes)\n",
    "    confusion_matrix = result(predictions,test)\n",
    "    \n",
    "    return confusion_matrix\n",
    "    "
   ]
  },
  {
   "cell_type": "markdown",
   "metadata": {},
   "source": [
    "**7. My Results for 2nd Question**"
   ]
  },
  {
   "cell_type": "markdown",
   "metadata": {},
   "source": [
    "***a. 100 sample for Training Set and rest is Validation Set.***\n",
    "\n",
    "Validation Results"
   ]
  },
  {
   "cell_type": "code",
   "execution_count": 27,
   "metadata": {},
   "outputs": [
    {
     "name": "stdout",
     "output_type": "stream",
     "text": [
      "confusion matrix:  [[1, 532, 285], [0, 1381, 939], [0, 415, 524]]\n",
      "total correct classification :  1906\n",
      "total missclassification  :  2171\n",
      "accuracy  :  0.4675006131959774\n",
      "\n",
      "Confusion Matrix:\n",
      "[[   1  532  285]\n",
      " [   0 1381  939]\n",
      " [   0  415  524]]\n"
     ]
    },
    {
     "data": {
      "image/png": "[encoded data removed]",
      "text/plain": [
       "<Figure size 576x432 with 2 Axes>"
      ]
     },
     "metadata": {
      "needs_background": "light"
     },
     "output_type": "display_data"
    }
   ],
   "source": [
    "confusion_100_valid = histogram_estimator(train_100,validation_100,\"Validation\")"
   ]
  },
  {
   "cell_type": "markdown",
   "metadata": {},
   "source": [
    "Train Results"
   ]
  },
  {
   "cell_type": "code",
   "execution_count": 28,
   "metadata": {},
   "outputs": [
    {
     "name": "stdout",
     "output_type": "stream",
     "text": [
      "confusion matrix:  [[0, 14, 7], [0, 40, 18], [0, 13, 8]]\n",
      "total correct classification :  48\n",
      "total missclassification  :  52\n",
      "accuracy  :  0.48\n",
      "\n",
      "Confusion Matrix:\n",
      "[[ 0 14  7]\n",
      " [ 0 40 18]\n",
      " [ 0 13  8]]\n"
     ]
    },
    {
     "data": {
      "image/png": "[encoded data removed]",
      "text/plain": [
       "<Figure size 576x432 with 2 Axes>"
      ]
     },
     "metadata": {
      "needs_background": "light"
     },
     "output_type": "display_data"
    }
   ],
   "source": [
    "confusion_100_train = histogram_estimator(train_100,validation_100,\"Train\")"
   ]
  },
  {
   "cell_type": "markdown",
   "metadata": {},
   "source": [
    "***b. 1000 sample for Training Set and rest is Validation Set.***\n",
    "\n",
    "Validation Results"
   ]
  },
  {
   "cell_type": "code",
   "execution_count": 29,
   "metadata": {},
   "outputs": [
    {
     "name": "stdout",
     "output_type": "stream",
     "text": [
      "confusion matrix:  [[321, 133, 167], [166, 925, 744], [15, 310, 396]]\n",
      "total correct classification :  1642\n",
      "total missclassification  :  1535\n",
      "accuracy  :  0.516839785961599\n",
      "\n",
      "Confusion Matrix:\n",
      "[[321 133 167]\n",
      " [166 925 744]\n",
      " [ 15 310 396]]\n"
     ]
    },
    {
     "data": {
      "image/png": "[encoded data removed]",
      "text/plain": [
       "<Figure size 576x432 with 2 Axes>"
      ]
     },
     "metadata": {
      "needs_background": "light"
     },
     "output_type": "display_data"
    }
   ],
   "source": [
    "confusion_1000_valid = histogram_estimator(train_1000,validation_1000,\"Validation\")"
   ]
  },
  {
   "cell_type": "markdown",
   "metadata": {},
   "source": [
    "Train Results"
   ]
  },
  {
   "cell_type": "code",
   "execution_count": 30,
   "metadata": {},
   "outputs": [
    {
     "name": "stdout",
     "output_type": "stream",
     "text": [
      "confusion matrix:  [[118, 42, 58], [60, 277, 206], [8, 96, 135]]\n",
      "total correct classification :  530\n",
      "total missclassification  :  470\n",
      "accuracy  :  0.53\n",
      "\n",
      "Confusion Matrix:\n",
      "[[118  42  58]\n",
      " [ 60 277 206]\n",
      " [  8  96 135]]\n"
     ]
    },
    {
     "data": {
      "image/png": "[encoded data removed]",
      "text/plain": [
       "<Figure size 576x432 with 2 Axes>"
      ]
     },
     "metadata": {
      "needs_background": "light"
     },
     "output_type": "display_data"
    }
   ],
   "source": [
    "confusion_1000_train =  histogram_estimator(train_1000,validation_1000,\"Train\")"
   ]
  },
  {
   "cell_type": "code",
   "execution_count": 31,
   "metadata": {},
   "outputs": [],
   "source": [
    "true_100 = confusion_100_valid[0][0] + confusion_100_valid[1][1] + confusion_100_valid[2][2] + confusion_100_train[0][0] + confusion_100_train[1][1] + confusion_100_train[2][2]\n",
    "miss_100 = len(data) - true_100\n",
    "\n",
    "true_1000 = confusion_1000_valid[0][0] + confusion_1000_valid[1][1] + confusion_1000_valid[2][2] + confusion_1000_train[0][0] + confusion_1000_train[1][1] + confusion_1000_train[2][2]\n",
    "miss_1000 = len(data) - true_1000"
   ]
  },
  {
   "cell_type": "markdown",
   "metadata": {},
   "source": [
    "Accuracy for 100 and 1000"
   ]
  },
  {
   "cell_type": "code",
   "execution_count": 32,
   "metadata": {},
   "outputs": [],
   "source": [
    "accuracy_100_histogram = round((true_100 / (true_100 + miss_100)),4)\n",
    "accuracy_1000_histogram = round((true_1000 / (true_1000 + miss_1000)),4)"
   ]
  },
  {
   "cell_type": "code",
   "execution_count": 33,
   "metadata": {},
   "outputs": [
    {
     "name": "stdout",
     "output_type": "stream",
     "text": [
      "For both Train and Validation\n",
      "\n",
      "Accuracy of 100 samples: 0.4678\n",
      "Accuracy of 1000 samples: 0.52\n"
     ]
    }
   ],
   "source": [
    "print(\"For both Train and Validation\\n\\nAccuracy of 100 samples:\", accuracy_100_histogram)\n",
    "print(\"Accuracy of 1000 samples:\", accuracy_1000_histogram)"
   ]
  }
 ],
 "metadata": {
  "kernelspec": {
   "display_name": "Python 3",
   "language": "python",
   "name": "python3"
  },
  "language_info": {
   "codemirror_mode": {
    "name": "ipython",
    "version": 3
   },
   "file_extension": ".py",
   "mimetype": "text/x-python",
   "name": "python",
   "nbconvert_exporter": "python",
   "pygments_lexer": "ipython3",
   "version": "3.7.4"
  }
 },
 "nbformat": 4,
 "nbformat_minor": 2
}
